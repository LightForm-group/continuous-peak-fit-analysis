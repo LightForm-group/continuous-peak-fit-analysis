{
 "cells": [
  {
   "cell_type": "markdown",
   "metadata": {},
   "source": [
    "## Running Continuous Peak Fit"
   ]
  },
  {
   "cell_type": "code",
   "execution_count": 1,
   "metadata": {},
   "outputs": [
    {
     "name": "stderr",
     "output_type": "stream",
     "text": [
      "WARNING:silx.opencl.common:Unable to import pyOpenCl. Please install it from: https://pypi.org/project/pyopencl\n"
     ]
    }
   ],
   "source": [
    "import sys\n",
    "sys.path.append('../continuous-peak-fit/Continuous-Peak-Fit')\n",
    "import cpf"
   ]
  },
  {
   "cell_type": "code",
   "execution_count": 2,
   "metadata": {},
   "outputs": [
    {
     "data": {
      "text/plain": [
       "'/mnt/eps01-rds/Fonseca-Lightform/mbcx9cd4/SXRD_analysis_packages/continuous-peak-fit-analysis'"
      ]
     },
     "execution_count": 2,
     "metadata": {},
     "output_type": "execute_result"
    }
   ],
   "source": [
    "pwd"
   ]
  },
  {
   "cell_type": "code",
   "execution_count": 13,
   "metadata": {},
   "outputs": [
    {
     "ename": "UnicodeDecodeError",
     "evalue": "'utf-8' codec can't decode byte 0x9e in position 1780: invalid start byte",
     "output_type": "error",
     "traceback": [
      "\u001b[0;31m---------------------------------------------------------------------------\u001b[0m",
      "\u001b[0;31mUnicodeDecodeError\u001b[0m                        Traceback (most recent call last)",
      "\u001b[0;32m/tmp/ipykernel_84460/2652540176.py\u001b[0m in \u001b[0;36m<module>\u001b[0;34m\u001b[0m\n\u001b[1;32m      1\u001b[0m \u001b[0mf\u001b[0m \u001b[0;34m=\u001b[0m \u001b[0mopen\u001b[0m\u001b[0;34m(\u001b[0m\u001b[0;34m\"/mnt/iusers01/jf01/mbcx9cd4/rds_lightform/SXRD_analysis/diamond_2021/103852-calibration/00001.cbf\"\u001b[0m\u001b[0;34m,\u001b[0m \u001b[0;34m\"r\"\u001b[0m\u001b[0;34m)\u001b[0m\u001b[0;34m\u001b[0m\u001b[0;34m\u001b[0m\u001b[0m\n\u001b[0;32m----> 2\u001b[0;31m \u001b[0mprint\u001b[0m\u001b[0;34m(\u001b[0m\u001b[0mf\u001b[0m\u001b[0;34m.\u001b[0m\u001b[0mread\u001b[0m\u001b[0;34m(\u001b[0m\u001b[0;34m)\u001b[0m\u001b[0;34m)\u001b[0m\u001b[0;34m\u001b[0m\u001b[0;34m\u001b[0m\u001b[0m\n\u001b[0m",
      "\u001b[0;32m/opt/gridware2/apps/binapps/anaconda3/2019.07/lib/python3.7/codecs.py\u001b[0m in \u001b[0;36mdecode\u001b[0;34m(self, input, final)\u001b[0m\n\u001b[1;32m    320\u001b[0m         \u001b[0;31m# decode input (taking the buffer into account)\u001b[0m\u001b[0;34m\u001b[0m\u001b[0;34m\u001b[0m\u001b[0;34m\u001b[0m\u001b[0m\n\u001b[1;32m    321\u001b[0m         \u001b[0mdata\u001b[0m \u001b[0;34m=\u001b[0m \u001b[0mself\u001b[0m\u001b[0;34m.\u001b[0m\u001b[0mbuffer\u001b[0m \u001b[0;34m+\u001b[0m \u001b[0minput\u001b[0m\u001b[0;34m\u001b[0m\u001b[0;34m\u001b[0m\u001b[0m\n\u001b[0;32m--> 322\u001b[0;31m         \u001b[0;34m(\u001b[0m\u001b[0mresult\u001b[0m\u001b[0;34m,\u001b[0m \u001b[0mconsumed\u001b[0m\u001b[0;34m)\u001b[0m \u001b[0;34m=\u001b[0m \u001b[0mself\u001b[0m\u001b[0;34m.\u001b[0m\u001b[0m_buffer_decode\u001b[0m\u001b[0;34m(\u001b[0m\u001b[0mdata\u001b[0m\u001b[0;34m,\u001b[0m \u001b[0mself\u001b[0m\u001b[0;34m.\u001b[0m\u001b[0merrors\u001b[0m\u001b[0;34m,\u001b[0m \u001b[0mfinal\u001b[0m\u001b[0;34m)\u001b[0m\u001b[0;34m\u001b[0m\u001b[0;34m\u001b[0m\u001b[0m\n\u001b[0m\u001b[1;32m    323\u001b[0m         \u001b[0;31m# keep undecoded input until the next call\u001b[0m\u001b[0;34m\u001b[0m\u001b[0;34m\u001b[0m\u001b[0;34m\u001b[0m\u001b[0m\n\u001b[1;32m    324\u001b[0m         \u001b[0mself\u001b[0m\u001b[0;34m.\u001b[0m\u001b[0mbuffer\u001b[0m \u001b[0;34m=\u001b[0m \u001b[0mdata\u001b[0m\u001b[0;34m[\u001b[0m\u001b[0mconsumed\u001b[0m\u001b[0;34m:\u001b[0m\u001b[0;34m]\u001b[0m\u001b[0;34m\u001b[0m\u001b[0;34m\u001b[0m\u001b[0m\n",
      "\u001b[0;31mUnicodeDecodeError\u001b[0m: 'utf-8' codec can't decode byte 0x9e in position 1780: invalid start byte"
     ]
    }
   ],
   "source": [
    "f = open(\"/mnt/iusers01/jf01/mbcx9cd4/rds_lightform/SXRD_analysis/diamond_2021/103852-calibration/00001.cbf\", \"r\")\n",
    "print(f.read())"
   ]
  },
  {
   "cell_type": "markdown",
   "metadata": {},
   "source": [
    "First time, it failed to build `pycairo` due to missing binary/build wheels during installation. This has now been removed.\n",
    "\n",
    "The code below executes the entire fitting procedure, first fitting 90 chunks of data with a peak profile (for each individual lattice plane specified in the input file), then fitting the results of the peak position, height, width, etc. with a Fourier expansion (defined by the number of terms specified in the input file), then fitting the entire peak with separate Fourier expansions for the position, height, width, etc. and finally fitting a combined Fourier expansion to the entire data. This Fourier description is then matched to any subsequent diffraction pattern images. "
   ]
  },
  {
   "cell_type": "code",
   "execution_count": 18,
   "metadata": {},
   "outputs": [
    {
     "name": "stdout",
     "output_type": "stream",
     "text": [
      "  \n",
      "The name of the settings file is:  INPUT_Ti64_21alpha_4beta_iCSF.py\n",
      "/mnt/iusers01/jf01/mbcx9cd4/rds_lightform/SXRD_analysis/diamond_2021/103852-calibration/00001.cbf\n",
      "Got:  Calib_type\n",
      "Got:  datafile_directory\n",
      "Got:  datafile_Basename\n",
      "Got:  datafile_Ending\n",
      "Got:  datafile_NumDigit\n",
      "Got:  fit_orders\n",
      "Got:  Calib_param\n",
      "Got:  Calib_detector\n",
      "Got:  AziBins\n",
      "Got:  Output_NumAziWrite\n"
     ]
    },
    {
     "ename": "AttributeError",
     "evalue": "'str' object has no attribute 'Calib_data'",
     "output_type": "error",
     "traceback": [
      "\u001b[0;31m---------------------------------------------------------------------------\u001b[0m",
      "\u001b[0;31mAttributeError\u001b[0m                            Traceback (most recent call last)",
      "\u001b[0;32m/tmp/ipykernel_84460/1662689620.py\u001b[0m in \u001b[0;36m<module>\u001b[0;34m\u001b[0m\n\u001b[0;32m----> 1\u001b[0;31m \u001b[0mcpf\u001b[0m\u001b[0;34m.\u001b[0m\u001b[0mXRD_FitPattern\u001b[0m\u001b[0;34m.\u001b[0m\u001b[0mexecute\u001b[0m\u001b[0;34m(\u001b[0m\u001b[0;34m'INPUT_Ti64_21alpha_4beta_iCSF.py'\u001b[0m\u001b[0;34m,\u001b[0m \u001b[0mdebug\u001b[0m\u001b[0;34m=\u001b[0m\u001b[0;32mTrue\u001b[0m\u001b[0;34m)\u001b[0m\u001b[0;34m\u001b[0m\u001b[0;34m\u001b[0m\u001b[0m\n\u001b[0m",
      "\u001b[0;32m/mnt/eps01-rds/Fonseca-Lightform/mbcx9cd4/SXRD_analysis_packages/continuous-peak-fit/Continuous-Peak-Fit/cpf/XRD_FitPattern.py\u001b[0m in \u001b[0;36mexecute\u001b[0;34m(settings_file, inputs, debug, refine, save_all, propagate, iterations, track, **kwargs)\u001b[0m\n\u001b[1;32m    328\u001b[0m     \"\"\"\n\u001b[1;32m    329\u001b[0m \u001b[0;34m\u001b[0m\u001b[0m\n\u001b[0;32m--> 330\u001b[0;31m     \u001b[0mFitSettings\u001b[0m\u001b[0;34m,\u001b[0m \u001b[0mFitParameters\u001b[0m \u001b[0;34m=\u001b[0m \u001b[0minitiate\u001b[0m\u001b[0;34m(\u001b[0m\u001b[0msettings_file\u001b[0m\u001b[0;34m,\u001b[0m \u001b[0minputs\u001b[0m\u001b[0;34m)\u001b[0m\u001b[0;34m\u001b[0m\u001b[0;34m\u001b[0m\u001b[0m\n\u001b[0m\u001b[1;32m    331\u001b[0m \u001b[0;34m\u001b[0m\u001b[0m\n\u001b[1;32m    332\u001b[0m     \u001b[0;31m# load detector\u001b[0m\u001b[0;34m\u001b[0m\u001b[0;34m\u001b[0m\u001b[0;34m\u001b[0m\u001b[0m\n",
      "\u001b[0;32m/mnt/eps01-rds/Fonseca-Lightform/mbcx9cd4/SXRD_analysis_packages/continuous-peak-fit/Continuous-Peak-Fit/cpf/XRD_FitPattern.py\u001b[0m in \u001b[0;36minitiate\u001b[0;34m(settings_file, inputs, outtype, initiateData, **kwargs)\u001b[0m\n\u001b[1;32m    257\u001b[0m         \u001b[0mdiff_files\u001b[0m\u001b[0;34m,\u001b[0m \u001b[0mn_diff_files\u001b[0m \u001b[0;34m=\u001b[0m \u001b[0mFileList\u001b[0m\u001b[0;34m(\u001b[0m\u001b[0mFitParameters\u001b[0m\u001b[0;34m,\u001b[0m \u001b[0mFitSettings\u001b[0m\u001b[0;34m)\u001b[0m\u001b[0;34m\u001b[0m\u001b[0;34m\u001b[0m\u001b[0m\n\u001b[1;32m    258\u001b[0m         \u001b[0mFitSettings\u001b[0m\u001b[0;34m.\u001b[0m\u001b[0mCalib_data\u001b[0m \u001b[0;34m=\u001b[0m \u001b[0mdiff_files\u001b[0m\u001b[0;34m[\u001b[0m\u001b[0;36m0\u001b[0m\u001b[0;34m]\u001b[0m\u001b[0;34m\u001b[0m\u001b[0;34m\u001b[0m\u001b[0m\n\u001b[0;32m--> 259\u001b[0;31m     \u001b[0mFitSettings\u001b[0m\u001b[0;34m.\u001b[0m\u001b[0mCalib_detector\u001b[0m \u001b[0;34m=\u001b[0m \u001b[0mdet\u001b[0m\u001b[0;34m.\u001b[0m\u001b[0mDetectorCheck\u001b[0m\u001b[0;34m(\u001b[0m\u001b[0mos\u001b[0m\u001b[0;34m.\u001b[0m\u001b[0mpath\u001b[0m\u001b[0;34m.\u001b[0m\u001b[0mabspath\u001b[0m\u001b[0;34m(\u001b[0m\u001b[0mFitSettings\u001b[0m\u001b[0;34m.\u001b[0m\u001b[0mCalib_data\u001b[0m\u001b[0;34m)\u001b[0m\u001b[0;34m,\u001b[0m \u001b[0mdet_name\u001b[0m\u001b[0;34m)\u001b[0m\u001b[0;34m\u001b[0m\u001b[0;34m\u001b[0m\u001b[0m\n\u001b[0m\u001b[1;32m    260\u001b[0m \u001b[0;34m\u001b[0m\u001b[0m\n\u001b[1;32m    261\u001b[0m     \u001b[0;32mif\u001b[0m \u001b[0minitiateData\u001b[0m \u001b[0;32mis\u001b[0m \u001b[0;32mTrue\u001b[0m\u001b[0;34m:\u001b[0m\u001b[0;34m\u001b[0m\u001b[0;34m\u001b[0m\u001b[0m\n",
      "\u001b[0;32m/mnt/eps01-rds/Fonseca-Lightform/mbcx9cd4/SXRD_analysis_packages/continuous-peak-fit/Continuous-Peak-Fit/cpf/DioptasFunctions.py\u001b[0m in \u001b[0;36mDetectorCheck\u001b[0;34m(Settings, detector)\u001b[0m\n\u001b[1;32m     83\u001b[0m     \u001b[0;32mif\u001b[0m \u001b[0mdetector\u001b[0m \u001b[0;32mis\u001b[0m \u001b[0;32mNone\u001b[0m \u001b[0;32mor\u001b[0m \u001b[0mdetector\u001b[0m \u001b[0;32mis\u001b[0m \u001b[0;34m'unknown'\u001b[0m \u001b[0;32mor\u001b[0m \u001b[0mdetector\u001b[0m \u001b[0;32mis\u001b[0m \u001b[0;34m'other'\u001b[0m \u001b[0;32mor\u001b[0m \u001b[0mdetector\u001b[0m \u001b[0;32mis\u001b[0m \u001b[0;34m'blank'\u001b[0m\u001b[0;34m:\u001b[0m\u001b[0;34m\u001b[0m\u001b[0;34m\u001b[0m\u001b[0m\n\u001b[1;32m     84\u001b[0m \u001b[0;34m\u001b[0m\u001b[0m\n\u001b[0;32m---> 85\u001b[0;31m         \u001b[0mim_all\u001b[0m \u001b[0;34m=\u001b[0m \u001b[0mfabio\u001b[0m\u001b[0;34m.\u001b[0m\u001b[0mopen\u001b[0m\u001b[0;34m(\u001b[0m\u001b[0mos\u001b[0m\u001b[0;34m.\u001b[0m\u001b[0mpath\u001b[0m\u001b[0;34m.\u001b[0m\u001b[0mabspath\u001b[0m\u001b[0;34m(\u001b[0m\u001b[0mSettings\u001b[0m\u001b[0;34m.\u001b[0m\u001b[0mCalib_data\u001b[0m\u001b[0;34m)\u001b[0m\u001b[0;34m)\u001b[0m\u001b[0;34m\u001b[0m\u001b[0;34m\u001b[0m\u001b[0m\n\u001b[0m\u001b[1;32m     86\u001b[0m         \u001b[0msz\u001b[0m \u001b[0;34m=\u001b[0m \u001b[0mSettings\u001b[0m\u001b[0;34m.\u001b[0m\u001b[0mCalib_pixels\u001b[0m \u001b[0;31m#Pixel_size\u001b[0m\u001b[0;34m\u001b[0m\u001b[0;34m\u001b[0m\u001b[0m\n\u001b[1;32m     87\u001b[0m         \u001b[0;32mif\u001b[0m \u001b[0msz\u001b[0m\u001b[0;34m>\u001b[0m\u001b[0;36m1\u001b[0m\u001b[0;34m:\u001b[0m\u001b[0;34m\u001b[0m\u001b[0;34m\u001b[0m\u001b[0m\n",
      "\u001b[0;31mAttributeError\u001b[0m: 'str' object has no attribute 'Calib_data'"
     ]
    }
   ],
   "source": [
    "cpf.XRD_FitPattern.execute('INPUT_Ti64_21alpha_4beta_iCSF.py', debug=True)"
   ]
  },
  {
   "cell_type": "markdown",
   "metadata": {},
   "source": [
    "The code below writes out an output .fit file which contains the peak position, intensity, half-width and Pseudo-Voigt weight for each lattice plane for every 1 azimuth degree."
   ]
  },
  {
   "cell_type": "code",
   "execution_count": 3,
   "metadata": {},
   "outputs": [
    {
     "name": "stdout",
     "output_type": "stream",
     "text": [
      "  \n",
      "The name of the settings file is:  INPUT_Ti64-powder_21alpha.py\n",
      "Got:  Calib_type\n",
      "Got:  datafile_directory\n",
      "Got:  datafile_Basename\n",
      "Got:  datafile_Ending\n",
      "Got:  datafile_NumDigit\n",
      "Got:  fit_orders\n",
      "Got:  Calib_param\n",
      "Got:  Calib_detector\n",
      "Got:  AziBins\n",
      "Got:  Output_NumAziWrite\n",
      "The data directory exists.\n",
      "All the data files exist.\n",
      "\n",
      "Write output file(s) using cpf.WriteMultiFit\n",
      "Writing ./103818_summed_00001.fit\n"
     ]
    }
   ],
   "source": [
    "cpf.XRD_FitPattern.writeoutput('INPUT_Ti64-powder_21alpha.py')"
   ]
  },
  {
   "cell_type": "code",
   "execution_count": null,
   "metadata": {},
   "outputs": [],
   "source": []
  }
 ],
 "metadata": {
  "kernelspec": {
   "display_name": "Python 3 (ipykernel)",
   "language": "python",
   "name": "python3"
  },
  "language_info": {
   "codemirror_mode": {
    "name": "ipython",
    "version": 3
   },
   "file_extension": ".py",
   "mimetype": "text/x-python",
   "name": "python",
   "nbconvert_exporter": "python",
   "pygments_lexer": "ipython3",
   "version": "3.7.3"
  }
 },
 "nbformat": 4,
 "nbformat_minor": 4
}
