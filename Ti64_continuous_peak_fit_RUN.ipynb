{
 "cells": [
  {
   "cell_type": "markdown",
   "metadata": {},
   "source": [
    "## Running Continuous Peak Fit"
   ]
  },
  {
   "cell_type": "markdown",
   "metadata": {},
   "source": [
    "The latest version of Continuous-Peak-Fit can be downloaded from GitHub [here]()."
   ]
  },
  {
   "cell_type": "code",
   "execution_count": 5,
   "metadata": {
    "scrolled": false
   },
   "outputs": [
    {
     "name": "stdout",
     "output_type": "stream",
     "text": [
      "/mnt/eps01-rds/Fonseca-Lightform/mbcx9cd4/SXRD_analysis_packages/continuous-peak-fit-analysis/venv/bin/python\n",
      "sys.version_info(major=3, minor=7, micro=3, releaselevel='final', serial=0)\n"
     ]
    }
   ],
   "source": [
    "import sys\n",
    "print(sys.executable)\n",
    "print(sys.version_info)\n",
    "#sys.path.append(\"../continuous-peak-fit/Continuous-Peak-Fit-Old\") # This version of Continuous-Peak-Fit was used originally\n",
    "sys.path.append(\"../continuous-peak-fit/Continuous-Peak-Fit\") # This version of Continuous-Peak-Fit is improved and includes an option for spline fitting\n",
    "import cpf"
   ]
  },
  {
   "cell_type": "markdown",
   "metadata": {},
   "source": [
    "*Note, in the past this has failed to build `pycairo` due to missing binary/build wheels during installation. This was then updated in the version of `Continuous-Peak-Fit-Old` and does not an issue with the latest version in `Continuous-Peak-Fit`*"
   ]
  },
  {
   "cell_type": "markdown",
   "metadata": {},
   "source": [
    "The code below executes the entire `Continuous-Peak-Fit` fitting procedure, first fitting 90 chunks of data with a peak profile (for each individual lattice plane specified in the input file), then fitting the results of the peak position, height, width, etc. with a Fourier expansion (defined by the number of terms specified in the input file), then fitting the entire peak with separate Fourier expansions for the position, height, width, etc. and finally fitting a combined Fourier expansion to the entire data. This Fourier description is then matched to any subsequent diffraction pattern images.\n",
    "\n",
    "A file path and file name defining an input python script is needed. This input python script should contain;\n",
    "\n",
    "- Paths to the data files (synchrotron diffraction pattern images).\n",
    "- Paths to the .poni calibration parameters and mask. \n",
    "- Paths to the output directory.\n",
    "- A list of peak bounds and number of Fourier terms used for fitting the different peak parameters. \n",
    "\n",
    "An example of the input files can be found in the folder `input-files`."
   ]
  },
  {
   "cell_type": "code",
   "execution_count": null,
   "metadata": {
    "scrolled": false
   },
   "outputs": [],
   "source": [
    "# example of fitting single image\n",
    "# input_filepath = \"example-analysis/diamond_2021/103840/texture-cpf-test/103840-cpf-output/\"\n",
    "# input_filename = \"INPUT_Diamond-2021_Ti64_21alpha_4beta_iCSF_single_image_103840.py\"\n",
    "\n",
    "# example of fitting multiple images\n",
    "input_filepath = \"example-analysis/diamond_2021/103845/texture-cpf-stage-scan/103845-cpf-output/\"\n",
    "input_filename = \"INPUT_Diamond-2021_Ti64_21alpha_4beta_iCSF_1.py\"\n",
    "\n",
    "input_file = f\"{input_filepath}{input_filename}\"\n",
    "print(input_file)"
   ]
  },
  {
   "cell_type": "code",
   "execution_count": null,
   "metadata": {},
   "outputs": [],
   "source": [
    "cpf.XRD_FitPattern.initiate(input_file)\n",
    "#cpf.XRD_FitPattern.execute(input_file, debug=True) # provides output showing all of the fittings\n",
    "cpf.XRD_FitPattern.execute(input_file)"
   ]
  },
  {
   "cell_type": "markdown",
   "metadata": {},
   "source": [
    "The code below writes out an output .fit file which contains the peak position, intensity, half-width and Pseudo-Voigt weight for each lattice plane for every 1 azimuth degree."
   ]
  },
  {
   "cell_type": "code",
   "execution_count": null,
   "metadata": {
    "scrolled": false
   },
   "outputs": [],
   "source": [
    "cpf.XRD_FitPattern.writeoutput(input_file)"
   ]
  },
  {
   "cell_type": "markdown",
   "metadata": {
    "scrolled": false
   },
   "source": [
    "Rather than run large analyses in a notebook, which can cause issues after running for a long time, it is recommended to include all of the above commands in a script. An example of this script can be found in the `execute-scripts` folder. These python scripts can be used to automatically run a number of different analyses in sequence.\n",
    "\n",
    "To do this, first load python in the terminal by typing `python`, create/load a virtual environment (if needed), then execute the script."
   ]
  }
 ],
 "metadata": {
  "kernelspec": {
   "display_name": "Python 3 (ipykernel)",
   "language": "python",
   "name": "python3"
  },
  "language_info": {
   "codemirror_mode": {
    "name": "ipython",
    "version": 3
   },
   "file_extension": ".py",
   "mimetype": "text/x-python",
   "name": "python",
   "nbconvert_exporter": "python",
   "pygments_lexer": "ipython3",
   "version": "3.7.3"
  }
 },
 "nbformat": 4,
 "nbformat_minor": 4
}
