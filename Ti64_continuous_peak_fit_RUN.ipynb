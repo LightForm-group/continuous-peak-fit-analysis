{
 "cells": [
  {
   "cell_type": "markdown",
   "metadata": {},
   "source": [
    "## Running Continuous Peak Fit"
   ]
  },
  {
   "cell_type": "code",
   "execution_count": null,
   "metadata": {
    "scrolled": false
   },
   "outputs": [],
   "source": [
    "import sys\n",
    "sys.path.append(\"../continuous-peak-fit/Continuous-Peak-Fit-Old\")\n",
    "import cpf"
   ]
  },
  {
   "cell_type": "markdown",
   "metadata": {},
   "source": [
    "First time, it failed to build `pycairo` due to missing binary/build wheels during installation. This has now been removed.\n",
    "\n",
    "The code below executes the entire fitting procedure, first fitting 90 chunks of data with a peak profile (for each individual lattice plane specified in the input file), then fitting the results of the peak position, height, width, etc. with a Fourier expansion (defined by the number of terms specified in the input file), then fitting the entire peak with separate Fourier expansions for the position, height, width, etc. and finally fitting a combined Fourier expansion to the entire data. This Fourier description is then matched to any subsequent diffraction pattern images. "
   ]
  },
  {
   "cell_type": "code",
   "execution_count": null,
   "metadata": {
    "scrolled": false
   },
   "outputs": [],
   "source": [
    "input_filepath = \"example-analysis/diamond_2021/103844/texture-cpf-stage-scan/103844-cpf-output/\"\n",
    "input_filename = \"INPUT_Diamond-2021_Ti64_21alpha_4beta_iCSF_1.py\"\n",
    "input_file = f\"{input_filepath}{input_filename}\"\n",
    "print(input_file)"
   ]
  },
  {
   "cell_type": "code",
   "execution_count": null,
   "metadata": {},
   "outputs": [],
   "source": [
    "#cpf.XRD_FitPattern.execute(input_file, debug=True)\n",
    "cpf.XRD_FitPattern.execute(input_file)"
   ]
  },
  {
   "cell_type": "markdown",
   "metadata": {},
   "source": [
    "The code below writes out an output .fit file which contains the peak position, intensity, half-width and Pseudo-Voigt weight for each lattice plane for every 1 azimuth degree."
   ]
  },
  {
   "cell_type": "code",
   "execution_count": null,
   "metadata": {
    "scrolled": false
   },
   "outputs": [],
   "source": [
    "cpf.XRD_FitPattern.writeoutput(input_file)"
   ]
  },
  {
   "cell_type": "code",
   "execution_count": null,
   "metadata": {
    "scrolled": false
   },
   "outputs": [],
   "source": []
  }
 ],
 "metadata": {
  "kernelspec": {
   "display_name": "Python 3 (ipykernel)",
   "language": "python",
   "name": "python3"
  },
  "language_info": {
   "codemirror_mode": {
    "name": "ipython",
    "version": 3
   },
   "file_extension": ".py",
   "mimetype": "text/x-python",
   "name": "python",
   "nbconvert_exporter": "python",
   "pygments_lexer": "ipython3",
   "version": "3.7.3"
  }
 },
 "nbformat": 4,
 "nbformat_minor": 4
}
