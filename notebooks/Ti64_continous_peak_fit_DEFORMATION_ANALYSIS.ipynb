{
 "cells": [
  {
   "cell_type": "markdown",
   "metadata": {},
   "source": [
    "## Analysing the peak results from a hot-deformation experiment"
   ]
  },
  {
   "cell_type": "markdown",
   "metadata": {},
   "source": [
    "This notebook is used to extract peak results calculated from Continuous-Peak-Fit, to calculate the elastic strain partitioning of two phase materials during hot-deformation."
   ]
  },
  {
   "cell_type": "code",
   "execution_count": null,
   "metadata": {},
   "outputs": [],
   "source": [
    "import matplotlib.pyplot as plt\n",
    "\n",
    "import continuous_peak_fit_analysis_functions as analysis\n",
    "import continuous_peak_fit_deformation_functions as deformation\n",
    "import continuous_peak_fit_sxrd_functions as sxrd\n",
    "\n",
    "%load_ext autoreload\n",
    "%autoreload 2"
   ]
  },
  {
   "cell_type": "code",
   "execution_count": null,
   "metadata": {},
   "outputs": [],
   "source": [
    "pwd"
   ]
  },
  {
   "cell_type": "markdown",
   "metadata": {},
   "source": [
    "## Load YAML file"
   ]
  },
  {
   "cell_type": "markdown",
   "metadata": {},
   "source": [
    "The file paths and user inputs for the analysis of the Diamond 2017, 2021, 2022, and DESY 2020, 2021 experiments are included in the `yaml` configuration files, to record the inputs of the analysis.\n",
    "\n",
    "In this case, there are 2x `yaml` files required to analyse the data. \n",
    "\n",
    "The **first** yaml file contains information about the .fit files, which can also be used to directly extract the intensities for calculating crystallographic texture.\n",
    "\n",
    "The **second** yaml file contains additional information about the deformation setup.\n",
    "\n",
    "The information in the `yaml` files can be accessed like this..."
   ]
  },
  {
   "cell_type": "code",
   "execution_count": null,
   "metadata": {},
   "outputs": [],
   "source": [
    "# to load the Diamond 2017, Diamond 2021, DESY 2020 or DESY 2021 experiment analysis\n",
    "config_path_texture = \"yaml/texture/diamond/config_diamond_2022_038.yaml\"\n",
    "config_path_deformation = \"yaml/deformation/diamond/config_diamond_2022_038.yaml\"\n",
    "\n",
    "config_texture = analysis.get_config(config_path_texture)\n",
    "config_deformation = analysis.get_config(config_path_deformation)"
   ]
  },
  {
   "cell_type": "markdown",
   "metadata": {},
   "source": [
    "## Extracting the single peak profile data from fit files"
   ]
  },
  {
   "cell_type": "markdown",
   "metadata": {},
   "source": [
    "The single peak profile data (such as the peak position, peak intensity, half-width and pseudo-Voigt weighting) obtained from the Fourier peak analysis in Continuous-Peak-Fit can be extracted from the .fit files using the `read_fit_results` function.\n",
    "\n",
    "The user inputs required to extract the intensity data are taken directly from the **first** `yaml` configuration file, using the `extract_intensity_input` function. The user inputs include;\n",
    "\n",
    "- Input and output file paths\n",
    "- A list of lattice plane peak labels\n",
    "- Azimuthal data resolution\n",
    "- Image numbers\n",
    "\n",
    "*Note, `image_numbers` is returned as retaining information about the different analysis blocks, which is useful to see each stage of the data load, but `image_numbers_sorted` is a single list of all the image_numbers, which is useful for plotting the data.*"
   ]
  },
  {
   "cell_type": "code",
   "execution_count": null,
   "metadata": {},
   "outputs": [],
   "source": [
    "experiment_number, input_fit_path, peak_label, data_resolution, \\\n",
    "image_numbers, image_numbers_sorted = deformation.extract_analysis_input(config_path_texture)"
   ]
  },
  {
   "cell_type": "code",
   "execution_count": null,
   "metadata": {},
   "outputs": [],
   "source": [
    "peak_position, peak_intensity, peak_halfwidth, peak_PV_weight = analysis.read_fit_results(experiment_number, \n",
    "                                                                input_fit_path, peak_label, data_resolution, \n",
    "                                                                image_numbers)"
   ]
  },
  {
   "cell_type": "markdown",
   "metadata": {},
   "source": [
    "To make sense of the data and look at the behaviour over time, it makes sense to restructure it. We do this by writing the peak results to new arrays. This will then allow us to plot the behaviour of single lattice plane peaks over time."
   ]
  },
  {
   "cell_type": "code",
   "execution_count": null,
   "metadata": {},
   "outputs": [],
   "source": [
    "peak_position_time, peak_intensity_time, \\\n",
    "peak_halfwidth_time, peak_PV_weight_time \\\n",
    "= deformation.restructure_fit_results(image_numbers, peak_label, data_resolution, \n",
    "                                      peak_position, peak_intensity, peak_halfwidth, peak_PV_weight)"
   ]
  },
  {
   "cell_type": "markdown",
   "metadata": {},
   "source": [
    "The new arrays are structured as nested dictionaries, and the data can be accessed by first defining the lattice plane, followed by the azimuthal angle. For example, using this command:\n",
    "\n",
    "`print(peak_position_time[\"10-10\"][359])`\n",
    "\n",
    "the position of the {10-10} lattice plane at an azimuthal angle of ${359^\\circ}$ is recorded for each of the diffraction pattern image numbers."
   ]
  },
  {
   "cell_type": "markdown",
   "metadata": {},
   "source": [
    "## Plot commands"
   ]
  },
  {
   "cell_type": "markdown",
   "metadata": {},
   "source": [
    "The following plot commands will be used for subsequent plots."
   ]
  },
  {
   "cell_type": "code",
   "execution_count": null,
   "metadata": {},
   "outputs": [],
   "source": [
    "plt.rc('xtick',labelsize=20)\n",
    "plt.rc('ytick',labelsize=20)\n",
    "plt.rc('legend',fontsize=20)\n",
    "plt.rc('axes',linewidth=2)\n",
    "plt.rc('xtick.major',width=2,size=10)\n",
    "plt.rc('xtick.minor', width=2, size=5)\n",
    "plt.rc('ytick.major',width=2,size=10)\n",
    "plt.rc('ytick.minor',width=2,size=5)"
   ]
  },
  {
   "cell_type": "markdown",
   "metadata": {},
   "source": [
    "## Load and Synchronise the thermomechanical data"
   ]
  },
  {
   "cell_type": "markdown",
   "metadata": {},
   "source": [
    "The thermomechanical test data must be loaded and correctly callibrated to the corresponding synchrotron diffraction pattern image number, to make sense of the effect of hot-deformation on the lattice plane peak changes observed in the synchrotron data.\n",
    "\n",
    "The parameters for the thermomechanical equipment can be loaded from the **second** yaml file. \n",
    "\n",
    "These inputs also include some information about the synchrotron data, such as the acquisition frequency, so that the thermomechanical test data can be adjusted to the correct frequency. \n",
    "\n",
    "*Note, if this is the first time loading the data then it is possible to leave out the `start_deformation` and `end_deformation` image numbers in the yaml file, and instead use some initial guesses for `start_deformation_initial` and `end_deformation_initial` which you know will approximately cover the entire deformation region. Then, when you have fully checked the data you can go back and rerun this analysis with the correct definition for the start and end image numbers.*"
   ]
  },
  {
   "cell_type": "code",
   "execution_count": null,
   "metadata": {
    "scrolled": true
   },
   "outputs": [],
   "source": [
    "thermomechanical_equipment, thermomechanical_file_path, start_deformation, \\\n",
    "end_deformation, number_of_frames, acquisition_frequency_sxrd, \\\n",
    "minimum_stress, deform_sequence, filter_equipment, output_file_path \\\n",
    "= deformation.extract_thermomechanical_input(config_path_deformation)"
   ]
  },
  {
   "cell_type": "markdown",
   "metadata": {},
   "source": [
    "The next cell uses the `plot_thermomechanical_data` command to calculate the true stress-strain behaviour measured on the thermomechanical equipment, which is slightly adjusted to match the acquisition frequency of the synchrotron diffraction pattern images.\n",
    "\n",
    "There are currently two types of data that can be loaded:\n",
    "\n",
    "1. Instron Electro-thermal mechanical tester (ETMT)\n",
    "2. DIL 805 A/D/T Compression Dilatometer (Dilatometer)\n",
    "\n",
    "In both cases the data has been reduced to only cover the hot-deformation regime.\n",
    "\n",
    "For data from the **ETMT**, a separate notebook [sxrd-thermomechanical-test-analysis](https://github.com/LightForm-group/sxrd-thermomechanical-test-analysis) is first needed to calculate the true stress versus true strain behaviour, which is based on a resistance method to calculate the plastic strain. This creates a text file with the converted true stress and true strain, along with other measured parameters such as temperature. This ETMT data has already been reduced, using the notebook, to start at the point of applied load.\n",
    "\n",
    "For data from the **Dilatometer**, the true stress and true strain data is included in an ascii text file, which can be saved using the accompanying Dilatometer software. In the case of the Dilatometer, the deformation does not start when the deformation file begins recording, and so a stress signal (typically > 1 MPa for more than 4 points) is used to signal the start of deformation. The data is recorded at such a high acquisition frequency that we can expect this corresponds very well with the lattice strain observed from the synchrotron diffraction patterns.\n",
    "\n",
    "The `plot_thermomechanical_data` function in the `deformation` functions returns arrays of the true stress and true strain at the adjusted acquisition frequency of the recorded diffraction pattern images."
   ]
  },
  {
   "cell_type": "code",
   "execution_count": null,
   "metadata": {},
   "outputs": [],
   "source": [
    "true_stress, true_strain = deformation.plot_thermomechanical_data(thermomechanical_equipment,thermomechanical_file_path, \n",
    "                                                            output_file_path, experiment_number,\n",
    "                                                            minimum_stress, deform_sequence, \n",
    "                                                            number_of_frames, acquisition_frequency_sxrd, \n",
    "                                                            filter_equipment)"
   ]
  },
  {
   "cell_type": "markdown",
   "metadata": {},
   "source": [
    "## Load the SXRD inputs"
   ]
  },
  {
   "cell_type": "markdown",
   "metadata": {},
   "source": [
    "The additional information to analyse the synchrotron data can be loaded from the **second** yaml file using the command below.\n",
    "\n",
    "Most importantly this defines the azimuthal angle for the loading direction."
   ]
  },
  {
   "cell_type": "code",
   "execution_count": null,
   "metadata": {},
   "outputs": [],
   "source": [
    "beam_energy, azimuth_load_direction, filter_sxrd = sxrd.extract_sxrd_input(config_path_deformation)"
   ]
  },
  {
   "cell_type": "markdown",
   "metadata": {},
   "source": [
    "## Set the colour and marker scheme"
   ]
  },
  {
   "cell_type": "markdown",
   "metadata": {},
   "source": [
    "The colour and marker scheme can be set automatically using the `colour_assign` and `marker_assign` functions. These are based on the number of lattice planes included in the analysis.\n",
    "\n",
    "The current default for the alpha colour type is *viridis*.\n",
    "\n",
    "The current default for the beta colour type is *PuRd*."
   ]
  },
  {
   "cell_type": "code",
   "execution_count": null,
   "metadata": {},
   "outputs": [],
   "source": [
    "plane_colour = sxrd.colour_assign(peak_label)\n",
    "plane_marker = sxrd.marker_assign(peak_label)"
   ]
  },
  {
   "cell_type": "markdown",
   "metadata": {},
   "source": [
    "This line can be used to reduce the peak labels to plot just the important peaks.\n",
    "\n",
    "*Note, the beta 211 peak may or may not be resolved, as it is often obscured by the adjacent alpha 10-13 peak.*"
   ]
  },
  {
   "cell_type": "code",
   "execution_count": null,
   "metadata": {},
   "outputs": [],
   "source": [
    "peak_label_reduced = ['10-10','0002','10-11','11-20','110','200','220']"
   ]
  },
  {
   "cell_type": "markdown",
   "metadata": {},
   "source": [
    "## Check the start of deformation"
   ]
  },
  {
   "cell_type": "markdown",
   "metadata": {},
   "source": [
    "### Option 1 - Lattice microstrain\n",
    "\n",
    "The first option is to look for the characteristic change in lattice microstrain, by alterning the relative start and end points.\n",
    "\n",
    "**After you have found the correct start and end numbers, add these values to the `start_deformation` and `end_deformation` parameters in the second deformation yaml file, save the yaml file, then re-start the notebook from the top and re-run all of the cells.**"
   ]
  },
  {
   "cell_type": "code",
   "execution_count": null,
   "metadata": {},
   "outputs": [],
   "source": [
    "# start_number = 10\n",
    "# end_number = 2386\n",
    "\n",
    "# sxrd.find_start_end_microstrain(start_number, end_number, image_numbers_sorted, peak_position_time,\n",
    "#                                 peak_label_reduced, azimuth_load_direction, plane_colour, plane_marker)"
   ]
  },
  {
   "cell_type": "markdown",
   "metadata": {},
   "source": [
    "### Option 2 - Synchronised thermomechanical analogue output\n",
    "\n",
    "The second option is to look for the characteristic change in load response recorded by the thermomechanical equipment, by alterning the relative start and end points.\n",
    "\n",
    "This is only possible if an anologue output from the thermomechanical equipment has already been synchronised with the synchrotron diffraction pattern images. This means a file exists that lists some of the thermomechanical deformation conditions (typically position, temperature and load), along with the corresponding image number. This is usually only possible with ETMT data recorded at Diamond Light Source.\n",
    "\n",
    "To load the analogue data we need some additional information from the **second** yaml file."
   ]
  },
  {
   "cell_type": "code",
   "execution_count": null,
   "metadata": {},
   "outputs": [],
   "source": [
    "# analogue_data_file_path, \\\n",
    "# load_conversion, temperature_conversion, position_conversion = deformation.extract_analogue_input(config_path_deformation)"
   ]
  },
  {
   "cell_type": "markdown",
   "metadata": {},
   "source": [
    "Then, alternate the relative start and end points to look for the characteristic change in load response recorded by the termomechanical equipment.\n",
    "\n",
    "**After you have found the correct start and end numbers, add these values to the `start_deformation` and `end_deformation` parameters in the second deformation yaml file, save the yaml file, then re-start the notebook from the top and re-run all of the cells.**"
   ]
  },
  {
   "cell_type": "code",
   "execution_count": null,
   "metadata": {},
   "outputs": [],
   "source": [
    "# start_number = 2059\n",
    "# end_number = 2553\n",
    "\n",
    "# deformation.plot_analogue_data(analogue_data_file_path, start_number, end_number, \n",
    "#                                load_conversion, temp_conversion, position_conversion)"
   ]
  },
  {
   "cell_type": "markdown",
   "metadata": {},
   "source": [
    "## Analysing the peak changes"
   ]
  },
  {
   "cell_type": "markdown",
   "metadata": {},
   "source": [
    "### Azimuthal peak position\n",
    "\n",
    "Check how the minimum and maximum position of the ring changes throughout the test. These plots can be a bit messy as for uniaxial loading conditions the maxmimum and minimum positions of the peaks will alternate at ${180^\\circ}$. However, they are useful to check that the the diffraction pattern ring asymmetry, and the individual positions of the peaks, are moving in a way that you'd expect given the loading conditions."
   ]
  },
  {
   "cell_type": "code",
   "execution_count": null,
   "metadata": {},
   "outputs": [],
   "source": [
    "sxrd.follow_azimuth_angle(peak_position_time, image_numbers_sorted,\n",
    "                          start_deformation, end_deformation,\n",
    "                          peak_label_reduced, data_resolution, \n",
    "                          plane_colour, plane_marker, \n",
    "                          output_file_path, experiment_number)"
   ]
  },
  {
   "cell_type": "markdown",
   "metadata": {},
   "source": [
    "### Lattice microstrain behaviour"
   ]
  },
  {
   "cell_type": "markdown",
   "metadata": {},
   "source": [
    "The thermomechanical test results can then be combined with the elastic lattice strain response measured from the synchrotron diffraction patterns. This shows us the relative strength of the different phases and different grain orientations with respect to the loading direction.\n",
    "\n",
    "- **\"Soft\" grain orientations** - reach an elastic lattice strain limit with greater applied stress, and therefore can be assumed to have begun plastically deforming at a lower stress.\n",
    "\n",
    "- **\"Hard\" grain orientations** - continue to take up greater elastic lattice strain with greater applied stress, these reach there elastic strain limit later, at higher stresses.\n",
    "\n",
    "The `plot_microstrain_stress` function includes additional inputs defined below. \n",
    "\n",
    "The `number_of_points` provides a cut off to remove measurements after yield, which can obscure the elastic-plastic transition. \n",
    "\n",
    "The microstrain, true stress and true strain limits can be used to set the plot limits for comparison with other data sets."
   ]
  },
  {
   "cell_type": "code",
   "execution_count": null,
   "metadata": {},
   "outputs": [],
   "source": [
    "# alter this value to cut off any additional data, such as after plastic yield\n",
    "number_of_points_stress = 3000\n",
    "number_of_points_strain = 0\n",
    "\n",
    "# set these values to zero if you do not want microstrain or true stress limits applied to the data\n",
    "microstrain_limit = 0\n",
    "true_stress_limit = 0\n",
    "true_strain_limit = 0"
   ]
  },
  {
   "cell_type": "code",
   "execution_count": null,
   "metadata": {},
   "outputs": [],
   "source": [
    "sxrd.plot_microstrain_stress(start_deformation, end_deformation, image_numbers_sorted,\n",
    "                             peak_position_time, true_stress, \n",
    "                             peak_label_reduced, azimuth_load_direction, plane_marker, plane_colour, \n",
    "                             output_file_path, experiment_number, filter_sxrd,\n",
    "                             number_of_points_stress, microstrain_limit, true_stress_limit)"
   ]
  },
  {
   "cell_type": "markdown",
   "metadata": {},
   "source": [
    "The plot of microstrain variation over time with applied strain, shows us the different loading states of the different two-phase grain types. For instance, load relaxation at high temperature might be showing us preferential recrystallization or phase transformation in the different grain types."
   ]
  },
  {
   "cell_type": "code",
   "execution_count": null,
   "metadata": {},
   "outputs": [],
   "source": [
    "sxrd.plot_microstrain_strain(start_deformation, end_deformation, image_numbers_sorted,\n",
    "                             peak_position_time, true_strain, \n",
    "                             peak_label_reduced, azimuth_load_direction, plane_marker, plane_colour, \n",
    "                             output_file_path, experiment_number, filter_sxrd,\n",
    "                             number_of_points_strain, microstrain_limit, true_strain_limit)"
   ]
  },
  {
   "cell_type": "code",
   "execution_count": null,
   "metadata": {},
   "outputs": [],
   "source": [
    "microstrain_limit = 17000\n",
    "true_stress_limit = 1050\n",
    "true_strain_limit = 0.07\n",
    "\n",
    "sxrd.plot_microstrain_stress(start_deformation, end_deformation, image_numbers_sorted,\n",
    "                             peak_position_time, true_stress, \n",
    "                             peak_label_reduced, azimuth_load_direction, plane_marker, plane_colour, \n",
    "                             output_file_path, experiment_number, filter_sxrd,\n",
    "                             number_of_points_stress, microstrain_limit, true_stress_limit)\n",
    "\n",
    "sxrd.plot_microstrain_strain(start_deformation, end_deformation, image_numbers_sorted,\n",
    "                             peak_position_time, true_strain, \n",
    "                             peak_label_reduced, azimuth_load_direction, plane_marker, plane_colour, \n",
    "                             output_file_path, experiment_number, filter_sxrd,\n",
    "                             number_of_points_strain, microstrain_limit, true_strain_limit)"
   ]
  },
  {
   "cell_type": "markdown",
   "metadata": {},
   "source": [
    "### Peak intensity behaviour [TODO]"
   ]
  },
  {
   "cell_type": "markdown",
   "metadata": {},
   "source": [
    "### Peak FWHM behaviour [TODO]"
   ]
  },
  {
   "cell_type": "markdown",
   "metadata": {},
   "source": [
    "### Polar plot of lattice microstrain behaviour [TODO]"
   ]
  },
  {
   "cell_type": "code",
   "execution_count": null,
   "metadata": {},
   "outputs": [],
   "source": []
  }
 ],
 "metadata": {
  "kernelspec": {
   "display_name": "Python 3 (ipykernel)",
   "language": "python",
   "name": "python3"
  },
  "language_info": {
   "codemirror_mode": {
    "name": "ipython",
    "version": 3
   },
   "file_extension": ".py",
   "mimetype": "text/x-python",
   "name": "python",
   "nbconvert_exporter": "python",
   "pygments_lexer": "ipython3",
   "version": "3.7.3"
  }
 },
 "nbformat": 4,
 "nbformat_minor": 4
}
