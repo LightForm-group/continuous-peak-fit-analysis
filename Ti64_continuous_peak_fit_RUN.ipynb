{
 "cells": [
  {
   "cell_type": "markdown",
   "metadata": {},
   "source": [
    "## Running Continuous-Peak-Fit"
   ]
  },
  {
   "cell_type": "markdown",
   "metadata": {},
   "source": [
    "**Download Continuous-Peak-Fit**\n",
    "\n",
    "The latest version of Continuous-Peak-Fit will be installed using pip, with instructions [here](https://pypi.org/project/continuous-peak-fit/). \n",
    "\n",
    "However, whilst it is still in development it can be downloaded from a private repository on GitHub [here](https://github.com/ExperimentalMineralPhysics/Continuous-Peak-Fit). You may need to contact Simon Hunt at simon.hunt@manchester.ac.uk for permission to download the package from this private repository.\n",
    "\n",
    "Clone the repository and save it in a separate folder called continuous-peak-fit, in the same directory as this continuous-peak-fit-analysis package. You will need to append this repository path to the system path, in order to import the Continuous-Peak-Fit pacakge. \n",
    "\n",
    "Alternatively, if Continuous-Peak-Fit has been pip installed then you can just import Continuous-Peak-Fit as a standard package."
   ]
  },
  {
   "cell_type": "code",
   "execution_count": null,
   "metadata": {
    "scrolled": false
   },
   "outputs": [],
   "source": [
    "import sys\n",
    "print(sys.executable)\n",
    "print(sys.version_info)\n",
    "sys.path.append(\"../continuous-peak-fit/Continuous-Peak-Fit\") # This version of Continuous-Peak-Fit now includes an option for spline fitting\n",
    "import cpf"
   ]
  },
  {
   "cell_type": "markdown",
   "metadata": {},
   "source": [
    "*Note, in the past this has failed to build `pycairo` due to missing binary/build wheels during installation. But, this  does not seem to be an issue with the latest version in `Continuous-Peak-Fit`*"
   ]
  },
  {
   "cell_type": "markdown",
   "metadata": {},
   "source": [
    "**Continuous-Peak-Fit Fitting Procedure**\n",
    "\n",
    "The code below executes the entire `Continuous-Peak-Fit` fitting procedure based on an input Python script. \n",
    "\n",
    "The procedure first fits 90 chunks of data with a peak profile (for each individual lattice plane specified in the input file). It then fits the results of the peak position, height, width, etc. with a Fourier expansion (defined by the number of terms specified in the input file). Then, it fits the entire peak with separate Fourier expansions for the position, height, width, etc. And finally, a combined Fourier expansion is fitted to the entire data. This Fourier description is then matched to any subsequent diffraction pattern images.\n",
    "\n",
    "**Input Script**\n",
    "\n",
    "A file path and file name defining an input python script is needed. This input python script should contain;\n",
    "\n",
    "- Paths to the data files (synchrotron diffraction pattern images).\n",
    "- Paths to the .poni calibration parameters and mask. \n",
    "- Paths to the output directory.\n",
    "- A list of peak bounds and number of Fourier terms used for fitting the different peak parameters. \n",
    "\n",
    "**Example Script**\n",
    "\n",
    "An example of the input files can be found in the folder `example-input-files`. And an example dataset can be downloaded in the `example-data` folder, by following the instructions in the README.\n",
    "\n",
    "**Quicker Fitting with Splines**\n",
    "\n",
    "For larger datasets, it can be quicker to use a spline function to fit the peak height variation, rather than a Fourier function. This can be done by specifying the height type for each of the lattice plane peaks in the input python script;\n",
    "\n",
    "\"height-type\": \"spline-cubic\"\n",
    "\n",
    "Examples of different input python scripts can be found in the `input-files` folder.\n",
    "\n",
    "**Example Test**\n",
    "\n",
    "The file paths for the example analysis can be set below for fitting of either a single image or a set of multiple images, by uncommenting the relevant lines."
   ]
  },
  {
   "cell_type": "code",
   "execution_count": null,
   "metadata": {
    "scrolled": false
   },
   "outputs": [],
   "source": [
    "# example of fitting single image\n",
    "# input_filepath = \"example-input-files/\"\n",
    "# input_filename = \"EXAMPLE_INPUT_Diamond-2021_Ti64_21alpha_4beta_iCSF_single_image.py\"\n",
    "\n",
    "# example of fitting multiple images\n",
    "input_filepath = \"example-input-files/\"\n",
    "input_filename = \"EXAMPLE_INPUT_Diamond-2021_Ti64_21alpha_4beta_iCSF_1.py\"\n",
    "\n",
    "input_file = f\"{input_filepath}{input_filename}\"\n",
    "print(f\"The input file defining the parameters for the Continuous-Peak-Fit analysis is: {input_file}\")"
   ]
  },
  {
   "cell_type": "markdown",
   "metadata": {},
   "source": [
    "The Continous-Peak-Fit analysis is then run using the commands below."
   ]
  },
  {
   "cell_type": "code",
   "execution_count": null,
   "metadata": {},
   "outputs": [],
   "source": [
    "cpf.XRD_FitPattern.initiate(input_file)\n",
    "#cpf.XRD_FitPattern.execute(input_file, debug=True) # provides output showing all of the fittings (not recommended for datasets of more than a few images)\n",
    "cpf.XRD_FitPattern.execute(input_file)"
   ]
  },
  {
   "cell_type": "markdown",
   "metadata": {},
   "source": [
    "The code below then writes out an *easy-to-understand* output .fit file which contains the peak position, intensity, half-width and Pseudo-Voigt weight for each lattice plane for every 1 azimuth degree."
   ]
  },
  {
   "cell_type": "code",
   "execution_count": null,
   "metadata": {
    "scrolled": false
   },
   "outputs": [],
   "source": [
    "cpf.XRD_FitPattern.write_output(input_file)"
   ]
  },
  {
   "cell_type": "markdown",
   "metadata": {
    "scrolled": false
   },
   "source": [
    "**Running Continuous-Peak-Fit from the Terminal**\n",
    "\n",
    "Rather than run large analyses in a notebook, which can cause issues after running for a long time, it is recommended to include all of the above commands in a script. An example of these scripts can be found in the `example-execute-scripts` folder. These python scripts can be used to automatically run a number of different analyses in sequence.\n",
    "\n",
    "To do this;\n",
    "\n",
    "1. Create/load a virtual environment (if needed)...\n",
    "\n",
    "    - ssh -X mbcx9cd4@incline256.itservices.manchester.ac.uk\n",
    "    - cd continuous-peak-fit-analysis/\n",
    "    - python -m venv venv\n",
    "    - source venv/bin/activate\n",
    "    - pip install -r requirements.txt\n",
    "    - cd example-execute-sripts/\n",
    "    \n",
    "2. Execute the script in python by running the command... \n",
    "\n",
    "`python EXAMPLE_Ti64_Diamond_2021_continuous_peak_fit_RUN.py`"
   ]
  },
  {
   "cell_type": "markdown",
   "metadata": {},
   "source": [
    "A simple way to test this script in a notebook is also given below..."
   ]
  },
  {
   "cell_type": "code",
   "execution_count": null,
   "metadata": {},
   "outputs": [],
   "source": [
    "%cd execute-scripts/\n",
    "%run EXAMPLE_Ti64_Diamond_2021_continuous_peak_fit_RUN"
   ]
  }
 ],
 "metadata": {
  "kernelspec": {
   "display_name": "Python 3 (ipykernel)",
   "language": "python",
   "name": "python3"
  },
  "language_info": {
   "codemirror_mode": {
    "name": "ipython",
    "version": 3
   },
   "file_extension": ".py",
   "mimetype": "text/x-python",
   "name": "python",
   "nbconvert_exporter": "python",
   "pygments_lexer": "ipython3",
   "version": "3.7.3"
  }
 },
 "nbformat": 4,
 "nbformat_minor": 4
}
